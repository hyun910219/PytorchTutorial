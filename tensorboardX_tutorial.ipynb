{
  "nbformat": 4,
  "nbformat_minor": 0,
  "metadata": {
    "colab": {
      "name": "tensorboardX_tutorial.ipynb",
      "version": "0.3.2",
      "provenance": [],
      "collapsed_sections": [],
      "include_colab_link": true
    },
    "kernelspec": {
      "name": "python3",
      "display_name": "Python 3"
    },
    "accelerator": "GPU"
  },
  "cells": [
    {
      "cell_type": "markdown",
      "metadata": {
        "id": "view-in-github",
        "colab_type": "text"
      },
      "source": [
        "<a href=\"https://colab.research.google.com/github/hyun910219/PytorchTutorial/blob/master/tensorboardX_tutorial.ipynb\" target=\"_parent\"><img src=\"https://colab.research.google.com/assets/colab-badge.svg\" alt=\"Open In Colab\"/></a>"
      ]
    },
    {
      "metadata": {
        "id": "MawyLZ-TLXKG",
        "colab_type": "code",
        "outputId": "97c8a3ee-8fbe-40a2-9dfc-1a72cfc3a193",
        "colab": {
          "base_uri": "https://localhost:8080/",
          "height": 104
        }
      },
      "cell_type": "code",
      "source": [
        "# tensorboadX설치\n",
        "!pip install tensorboardx"
      ],
      "execution_count": 0,
      "outputs": [
        {
          "output_type": "stream",
          "text": [
            "Requirement already satisfied: tensorboardx in /usr/local/lib/python3.6/dist-packages (1.6)\n",
            "Requirement already satisfied: numpy in /usr/local/lib/python3.6/dist-packages (from tensorboardx) (1.14.6)\n",
            "Requirement already satisfied: six in /usr/local/lib/python3.6/dist-packages (from tensorboardx) (1.11.0)\n",
            "Requirement already satisfied: protobuf>=3.2.0 in /usr/local/lib/python3.6/dist-packages (from tensorboardx) (3.6.1)\n",
            "Requirement already satisfied: setuptools in /usr/local/lib/python3.6/dist-packages (from protobuf>=3.2.0->tensorboardx) (40.6.3)\n"
          ],
          "name": "stdout"
        }
      ]
    },
    {
      "metadata": {
        "id": "TZiqQO1HLp07",
        "colab_type": "text"
      },
      "cell_type": "markdown",
      "source": [
        "## reference \n",
        "- https://stackoverflow.com/questions/47818822/can-i-use-tensorboard-with-google-colab\n",
        "- https://github.com/DSKSD/Pytorch_Fast_Campus_2018"
      ]
    },
    {
      "metadata": {
        "id": "vhrqY30pL45P",
        "colab_type": "text"
      },
      "cell_type": "markdown",
      "source": [
        "1. Get TensorBoard running in the background.\n",
        "Inspired by this answer."
      ]
    },
    {
      "metadata": {
        "id": "xU1O3OZAMAPj",
        "colab_type": "code",
        "colab": {}
      },
      "cell_type": "code",
      "source": [
        "LOG_DIR = './log/'  # \n",
        "\n",
        "get_ipython().system_raw(\n",
        "    'tensorboard --logdir {} --host 0.0.0.0 --port 6006 &'\n",
        "    .format(LOG_DIR)\n",
        ")\n"
      ],
      "execution_count": 0,
      "outputs": []
    },
    {
      "metadata": {
        "id": "cUHBkV0NMNCS",
        "colab_type": "text"
      },
      "cell_type": "markdown",
      "source": [
        "2. Download and unzip ngrok.\n",
        "Replace the link passed to wget with the correct download link for your OS."
      ]
    },
    {
      "metadata": {
        "id": "VWmIcMKEMRYx",
        "colab_type": "code",
        "outputId": "e5b59c75-7471-4295-9f43-76edd813bd16",
        "colab": {
          "base_uri": "https://localhost:8080/",
          "height": 260
        }
      },
      "cell_type": "code",
      "source": [
        "! wget https://bin.equinox.io/c/4VmDzA7iaHb/ngrok-stable-linux-amd64.zip\n",
        "! unzip ngrok-stable-linux-amd64.zip"
      ],
      "execution_count": 0,
      "outputs": [
        {
          "output_type": "stream",
          "text": [
            "--2019-01-29 15:38:14--  https://bin.equinox.io/c/4VmDzA7iaHb/ngrok-stable-linux-amd64.zip\n",
            "Resolving bin.equinox.io (bin.equinox.io)... 34.232.40.183, 34.232.181.106, 34.238.3.58, ...\n",
            "Connecting to bin.equinox.io (bin.equinox.io)|34.232.40.183|:443... connected.\n",
            "HTTP request sent, awaiting response... 200 OK\n",
            "Length: 5363700 (5.1M) [application/octet-stream]\n",
            "Saving to: ‘ngrok-stable-linux-amd64.zip.3’\n",
            "\n",
            "ngrok-stable-linux- 100%[===================>]   5.11M  9.71MB/s    in 0.5s    \n",
            "\n",
            "2019-01-29 15:38:15 (9.71 MB/s) - ‘ngrok-stable-linux-amd64.zip.3’ saved [5363700/5363700]\n",
            "\n",
            "Archive:  ngrok-stable-linux-amd64.zip\n",
            "replace ngrok? [y]es, [n]o, [A]ll, [N]one, [r]ename: y\n",
            "  inflating: ngrok                   \n"
          ],
          "name": "stdout"
        }
      ]
    },
    {
      "metadata": {
        "id": "EBOG7TapLoqW",
        "colab_type": "text"
      },
      "cell_type": "markdown",
      "source": [
        "3.Launch ngrok background process..."
      ]
    },
    {
      "metadata": {
        "id": "UPNMXNroMfp6",
        "colab_type": "code",
        "colab": {}
      },
      "cell_type": "code",
      "source": [
        "get_ipython().system_raw('./ngrok http 6006 &')"
      ],
      "execution_count": 0,
      "outputs": []
    },
    {
      "metadata": {
        "id": "9o1NAyX6Miwe",
        "colab_type": "text"
      },
      "cell_type": "markdown",
      "source": [
        "...and retrieve public url. Source"
      ]
    },
    {
      "metadata": {
        "id": "xjXCRSOXMjg0",
        "colab_type": "code",
        "outputId": "93991cb7-f22f-4665-a523-3d36c34104a9",
        "colab": {
          "base_uri": "https://localhost:8080/",
          "height": 34
        }
      },
      "cell_type": "code",
      "source": [
        "! curl -s http://localhost:4040/api/tunnels | python3 -c \\\n",
        "    \"import sys, json; print(json.load(sys.stdin)['tunnels'][0]['public_url'])\""
      ],
      "execution_count": 0,
      "outputs": [
        {
          "output_type": "stream",
          "text": [
            "http://c5b518bb.ngrok.io\n"
          ],
          "name": "stdout"
        }
      ]
    },
    {
      "metadata": {
        "id": "YFrvD82k7Ryv",
        "colab_type": "text"
      },
      "cell_type": "markdown",
      "source": [
        "위  링크로 들어가면 tensorboard로 들어가집니다."
      ]
    },
    {
      "metadata": {
        "id": "RhpsnE3SMsY4",
        "colab_type": "code",
        "colab": {}
      },
      "cell_type": "code",
      "source": [
        "import torch\n",
        "import torch.nn as nn\n",
        "from torch.autograd import Variable\n",
        "import torch.optim as optim\n",
        "import torch.nn.functional as F\n",
        "import numpy as np\n",
        "import torchvision.transforms as transforms\n",
        "import torchvision.datasets as vdatasets\n",
        "import torchvision.utils as vutils\n",
        "import pickle\n",
        "import os, shutil\n",
        "from tensorboardX import SummaryWriter\n",
        "\n",
        "torch.manual_seed(1)\n",
        "import matplotlib.pyplot as plt\n",
        "%matplotlib inline"
      ],
      "execution_count": 0,
      "outputs": []
    },
    {
      "metadata": {
        "id": "0m3nycbNNL-Y",
        "colab_type": "text"
      },
      "cell_type": "markdown",
      "source": [
        "# What is TensorBoardX?\n",
        "- 구글의 tensorflow는 neural network의 훈련 과정을 시각화할 수 있는 tensorboard라는  웹서버가 있다. 이 tensorboard는 scalar, image, text 등을 정보를 시각화해준다. 하지만 pytorch같은 다른 딥러닝 프레임워크는 tensorboard와 같은 툴이 없다. \n",
        "- 그래서 tensorflow가 아닌 pytorch도 tensorboard의 기본적인 기능을 사용할 수 있게 해주는게 tensorboardX이다.\n",
        "- 현재는 scalar, image, audio, histogram, text, embedding, route of backpropagation을 지원하고 있다."
      ]
    },
    {
      "metadata": {
        "id": "FfK6b7_bORCZ",
        "colab_type": "text"
      },
      "cell_type": "markdown",
      "source": [
        "## 1. create a summary writer\n",
        "-  logging을 하기 전에 writer instance를 생성해야함."
      ]
    },
    {
      "metadata": {
        "id": "WT4DH-MfNEmV",
        "colab_type": "code",
        "colab": {}
      },
      "cell_type": "code",
      "source": [
        "#SummaryWriter encapsulates everything\n",
        "writer = SummaryWriter(log_dir='./log/''runs/exp-1')\n",
        "#creates writer object. The log will be saved in 'runs/exp-1'\n",
        "writer2 = SummaryWriter(log_dir='./log/')\n",
        "#creates writer2 object with auto generated file name, the dir will be something like 'runs/Aug20-17-20-33'\n",
        "writer3 = SummaryWriter(log_dir='./log/', comment='3x learning rate')\n",
        "#creates writer2 object with auto generated file name, the comment will be appended to the filename. The dir will be something like 'runs/Aug20-17-20-33-3xlearning rate'"
      ],
      "execution_count": 0,
      "outputs": []
    },
    {
      "metadata": {
        "id": "QmopNiiONIud",
        "colab_type": "code",
        "outputId": "180ea5da-2e68-4b89-d0a0-292e84fb6200",
        "colab": {
          "base_uri": "https://localhost:8080/",
          "height": 139
        }
      },
      "cell_type": "code",
      "source": [
        "!cd log ; ls"
      ],
      "execution_count": 0,
      "outputs": [
        {
          "output_type": "stream",
          "text": [
            "events.out.tfevents.1548775578.acdcf0ab999e\n",
            "events.out.tfevents.1548775602.acdcf0ab999e\n",
            "events.out.tfevents.1548776225.acdcf0ab999e\n",
            "events.out.tfevents.1548776255.acdcf0ab999e\n",
            "events.out.tfevents.1548776316.acdcf0ab999e\n",
            "resnet\n",
            "runs\n"
          ],
          "name": "stdout"
        }
      ]
    },
    {
      "metadata": {
        "id": "6RilfXUBOjf9",
        "colab_type": "text"
      },
      "cell_type": "markdown",
      "source": [
        "## 2. add_\n",
        "- logging할 정보를 입력한다.\n",
        "\n",
        "### general api format\n",
        "- add_something(tag_name, object, iteration number)"
      ]
    },
    {
      "metadata": {
        "id": "kLEGIyCEOjQs",
        "colab_type": "code",
        "colab": {}
      },
      "cell_type": "code",
      "source": [
        "writer= SummaryWriter('./log/runs/add_scalar')\n",
        "\n",
        "for n_iter in range(100):\n",
        "    s1= torch.rand(1)\n",
        "    s2= torch.rand(1)\n",
        "    writer.add_scalar('data/scalar1', s1[0], n_iter) # data grouping by 'slash'\n",
        "    writer.add_scalars('data/scalar_group', {'xsinx':n_iter*np.sin(n_iter),\n",
        "                                            'xcosx':n_iter*np.cos(n_iter),\n",
        "                                            'arctan':np.arctan(n_iter)}, n_iter)\n",
        "writer.close()"
      ],
      "execution_count": 0,
      "outputs": []
    },
    {
      "metadata": {
        "id": "W8KL2bkAOycD",
        "colab_type": "code",
        "outputId": "39ec1f99-e9aa-4fed-a395-fb4c804a72e8",
        "colab": {
          "base_uri": "https://localhost:8080/",
          "height": 121
        }
      },
      "cell_type": "code",
      "source": [
        "!cd log/runs/add_scalar ; ls"
      ],
      "execution_count": 0,
      "outputs": [
        {
          "output_type": "stream",
          "text": [
            "data\n",
            "events.out.tfevents.1548775753.acdcf0ab999e\n",
            "events.out.tfevents.1548775773.acdcf0ab999e\n",
            "events.out.tfevents.1548776226.acdcf0ab999e\n",
            "events.out.tfevents.1548776259.acdcf0ab999e\n",
            "events.out.tfevents.1548776318.acdcf0ab999e\n"
          ],
          "name": "stdout"
        }
      ]
    },
    {
      "metadata": {
        "id": "3-jhZKQLPFRG",
        "colab_type": "text"
      },
      "cell_type": "markdown",
      "source": [
        "## 3.Graph\n"
      ]
    },
    {
      "metadata": {
        "id": "78Od8qxmPDtj",
        "colab_type": "code",
        "colab": {}
      },
      "cell_type": "code",
      "source": [
        "class NN(nn.Module):\n",
        "    def __init__(self):\n",
        "        super(NN, self).__init__()\n",
        "        self.linear1= nn.Linear(1024, 512)\n",
        "        self.linear2= nn.Linear(512, 512)\n",
        "        self.linear3= nn.Linear(512, 10)\n",
        "        \n",
        "        # In : {배치사이즈, 차원수} => Out : (배치사이즈, 차원수)\n",
        "        self.bn1= nn.BatchNorm1d(512)\n",
        "        self.bn2= nn.BatchNorm1d(512)\n",
        "    def forward(self, inputs):\n",
        "        outputs= self.bn1(self.linear1(inputs))\n",
        "        outputs= F.relu(outputs)\n",
        "        outputs= self.bn2(self.linear2(outputs))\n",
        "        outputs= F.relu(outputs)\n",
        "        return self.linear3(outputs)"
      ],
      "execution_count": 0,
      "outputs": []
    },
    {
      "metadata": {
        "id": "fKNAI9caO4G9",
        "colab_type": "code",
        "colab": {}
      },
      "cell_type": "code",
      "source": [
        "writer= SummaryWriter('./log/runs/model')\n",
        "\n",
        "model= NN()\n",
        "test_inputs= torch.randn(64,1024, requires_grad=True)\n",
        "outputs= model(test_inputs)\n",
        "\n",
        "writer.add_graph(model, (test_inputs, ))  # , verbose=True)\n",
        "writer.close()"
      ],
      "execution_count": 0,
      "outputs": []
    },
    {
      "metadata": {
        "id": "GAN-6fqTPkhV",
        "colab_type": "text"
      },
      "cell_type": "markdown",
      "source": [
        "## 4. Others"
      ]
    },
    {
      "metadata": {
        "id": "5PZUXEbYPKhu",
        "colab_type": "code",
        "colab": {}
      },
      "cell_type": "code",
      "source": [
        "# demo.py\n",
        "\n",
        "import torch\n",
        "import torchvision.utils as vutils\n",
        "import numpy as np\n",
        "import torchvision.models as models\n",
        "from torchvision import datasets\n",
        "from tensorboardX import SummaryWriter\n",
        "\n",
        "resnet18 = models.resnet18(False)\n",
        "writer= SummaryWriter(log_dir='./log/resnet')\n",
        "sample_rate = 44100\n",
        "freqs = [262, 294, 330, 349, 392, 440, 440, 440, 440, 440, 440]\n",
        "\n",
        "\n",
        "for n_iter in range(100):\n",
        "\n",
        "    dummy_s1 = torch.rand(1)\n",
        "    dummy_s2 = torch.rand(1)\n",
        "    # data grouping by `slash`\n",
        "    writer.add_scalar('data/scalar1', dummy_s1[0], n_iter)\n",
        "    writer.add_scalar('data/scalar2', dummy_s2[0], n_iter)\n",
        "\n",
        "    writer.add_scalars('data/scalar_group', {'xsinx': n_iter * np.sin(n_iter),\n",
        "                                             'xcosx': n_iter * np.cos(n_iter),\n",
        "                                             'arctanx': np.arctan(n_iter)}, n_iter)\n",
        "\n",
        "    dummy_img = torch.rand(32, 3, 64, 64)  # output from network\n",
        "    if n_iter % 10 == 0:\n",
        "        x = vutils.make_grid(dummy_img, normalize=True, scale_each=True)\n",
        "        writer.add_image('Image', x, n_iter)\n",
        "\n",
        "        dummy_audio = torch.zeros(sample_rate * 2)\n",
        "        for i in range(x.size(0)):\n",
        "            # amplitude of sound should in [-1, 1]\n",
        "            dummy_audio[i] = np.cos(freqs[n_iter // 10] * np.pi * float(i) / float(sample_rate))\n",
        "        writer.add_audio('myAudio', dummy_audio, n_iter, sample_rate=sample_rate)\n",
        "\n",
        "        writer.add_text('Text', 'text logged at step:' + str(n_iter), n_iter)\n",
        "\n",
        "        for name, param in resnet18.named_parameters():\n",
        "            writer.add_histogram(name, param.clone().cpu().data.numpy(), n_iter)\n",
        "\n",
        "        # needs tensorboard 0.4RC or later\n",
        "        writer.add_pr_curve('xoxo', np.random.randint(2, size=100), np.random.rand(100), n_iter)\n",
        "\n",
        "dataset = datasets.MNIST('mnist', train=False, download=True)\n",
        "images = dataset.test_data[:100].float()\n",
        "label = dataset.test_labels[:100]\n",
        "\n",
        "features = images.view(100, 784)\n",
        "writer.add_embedding(features, metadata=label, label_img=images.unsqueeze(1))\n",
        "\n",
        "# export scalar data to JSON for external processing\n",
        "writer.export_scalars_to_json(\"./all_scalars.json\")\n",
        "\n",
        "writer.close()"
      ],
      "execution_count": 0,
      "outputs": []
    },
    {
      "metadata": {
        "id": "PZVXx02GQmBf",
        "colab_type": "code",
        "colab": {}
      },
      "cell_type": "code",
      "source": [
        ""
      ],
      "execution_count": 0,
      "outputs": []
    }
  ]
}